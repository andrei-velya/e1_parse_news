import requests as rq
from bs4 import BeautifulSoup as BS
import re
import pandas as pd
response = rq.get('https://www.e1.ru/text/')
text = response.text
soup = BS(text)
articles = soup.find_all('article',{'class':'OPHIx'})  
article_list = []
for article in articles:
    title = article.find('h2',{'class':'h9Jmx'}).find('a').text
    views  = article.find('span',{'class':'_3mETe'}).text
    views = int(''.join(re.findall('\d', views)) )
    article_list.append({'title':title,'views':views})
for i in range(2,251):
    response = rq.get(f'https://www.e1.ru/text/?page={i}')
    text = response.text
    soup = BS(text)
    articles = soup.find_all('article',{'class':'OPHIx'})  
    for article in articles:
        title = article.find('h2',{'class':'h9Jmx'}).find('a').text
        views  = article.find('span',{'class':'_3mETe'}).text
        views = int(''.join(re.findall('\d', views)) )
        article_list.append({'title':title,'views':views})
df = pd.DataFrame(article_list)
df.sort_values('views',ascending=False)
